{
 "cells": [
  {
   "cell_type": "code",
   "execution_count": 26,
   "metadata": {},
   "outputs": [],
   "source": [
    "# Exotic Pet Store\n",
    "\n",
    "# my class of inventory is going to have a list of stock\n",
    "class Inventory:\n",
    "    # don't need to pass anything to initialize\n",
    "    def __init__(self):\n",
    "        # animal object and how many we have\n",
    "        self.stock = {}\n",
    "    \n",
    "    # fill up my inventory\n",
    "    def restock(self):\n",
    "        fox = Animal('Fennec Fox', 4500.0)\n",
    "        wolf = Animal('Grey Wolf', 3200.0)\n",
    "        llama = Animal('Llama', 1500.0)\n",
    "        alpaca = Animal('Alpaca', 2000.0)\n",
    "        capybara = Animal('Capybara', 3400.0)\n",
    "        self.addtostock(fox, 8)\n",
    "        self.addtostock(wolf, 1)\n",
    "        self.addtostock(llama, 4)\n",
    "        self.addtostock(alpaca, 1)\n",
    "        self.addtostock(capybara, 2)\n",
    "    \n",
    "    # adding a new animal to my stock\n",
    "    def addtostock(self, a, q):\n",
    "        self.stock[a.name.lower()] = {\n",
    "            'obj': a,\n",
    "            'quantity': q\n",
    "        }\n",
    "        \n",
    "    # remove an animal from my stock\n",
    "    def removefromstock(self, item):\n",
    "        pass\n",
    "\n",
    "#my inventory will be full of animal objects\n",
    "class Animal:\n",
    "    def __init__(self, n, p):\n",
    "        self.name = n\n",
    "        self.price = p\n",
    "    \n",
    "    def show(self):\n",
    "        print(f'This is a {self.name} - it costs ${self.price:.2f}')\n",
    "\n",
    "        \n",
    "class Cart:\n",
    "    # what is this person planning to buy\n",
    "    def __init__():\n",
    "        self.cart = []\n",
    "        self.total = 0.0\n",
    "    \n",
    "    # check if the item is in my inventory, if it is, add it to the cart\n",
    "    def add():\n",
    "        pass\n",
    "    \n",
    "    def show():\n",
    "        pass\n",
    "    \n",
    "    def delete():\n",
    "        pass\n",
    "    \n",
    "    def checkout():\n",
    "        pass\n",
    "\n",
    "class Main:\n",
    "    @classmethod\n",
    "    def run(self):\n",
    "        inv = Inventory()\n",
    "        print(f'stock starts empty {inv.stock}')\n",
    "        print(f'restocking.....')\n",
    "        inv.restock()\n",
    "        print(f'stock is now full: {inv.stock.keys()}')\n",
    "        print(f\"accessing a fox {inv.stock['fennec fox']['obj'].name}\")\n",
    "    \n",
    "    "
   ]
  },
  {
   "cell_type": "code",
   "execution_count": 27,
   "metadata": {},
   "outputs": [
    {
     "name": "stdout",
     "output_type": "stream",
     "text": [
      "stock starts empty {}\n",
      "restocking.....\n",
      "stock is now full: dict_keys(['fennec fox', 'grey wolf', 'llama', 'alpaca', 'capybara'])\n",
      "accessing a fox Fennec Fox\n"
     ]
    }
   ],
   "source": [
    "Main.run()"
   ]
  },
  {
   "cell_type": "code",
   "execution_count": null,
   "metadata": {},
   "outputs": [],
   "source": [
    "self.stock = {\n",
    "            'animal_name': {\n",
    "                'object': 'the_animal_object_here',\n",
    "                'quantity': 4\n",
    "            },\n",
    "            'other_animal_name':{\n",
    "                'object': 'object',\n",
    "                'quantity': 4\n",
    "            }\n",
    "        }"
   ]
  }
 ],
 "metadata": {
  "kernelspec": {
   "display_name": "Python 3",
   "language": "python",
   "name": "python3"
  },
  "language_info": {
   "codemirror_mode": {
    "name": "ipython",
    "version": 3
   },
   "file_extension": ".py",
   "mimetype": "text/x-python",
   "name": "python",
   "nbconvert_exporter": "python",
   "pygments_lexer": "ipython3",
   "version": "3.8.5"
  }
 },
 "nbformat": 4,
 "nbformat_minor": 4
}
